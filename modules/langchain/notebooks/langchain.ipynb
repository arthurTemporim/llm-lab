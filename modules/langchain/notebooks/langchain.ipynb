{
 "cells": [
  {
   "cell_type": "markdown",
   "id": "d270dfaf-a322-47a9-9790-8ff2922ae135",
   "metadata": {},
   "source": [
    "# LangChain\n",
    "\n",
    "This notebook has langchain example with Ollama.\n",
    "\n",
    "Find more in this [Ollama Langchain doc](https://python.langchain.com/docs/integrations/llms/ollama/)."
   ]
  },
  {
   "cell_type": "code",
   "execution_count": 1,
   "id": "913a10c7-341e-4185-8fce-47a85e1a8ee0",
   "metadata": {},
   "outputs": [],
   "source": [
    "# Imports\n",
    "from langchain_core.prompts import ChatPromptTemplate\n",
    "from langchain_ollama.llms import OllamaLLM"
   ]
  },
  {
   "cell_type": "code",
   "execution_count": 2,
   "id": "6e41e3de-1832-4206-9cd6-8cd0da57aacb",
   "metadata": {},
   "outputs": [],
   "source": [
    "template = \"\"\"Question: {question}\n",
    "\n",
    "Answer: Let's think step by step.\"\"\""
   ]
  },
  {
   "cell_type": "code",
   "execution_count": 3,
   "id": "33b62cc7-83ec-444c-b8df-33a73b3c6bec",
   "metadata": {},
   "outputs": [],
   "source": [
    "prompt = ChatPromptTemplate.from_template(template)"
   ]
  },
  {
   "cell_type": "code",
   "execution_count": 4,
   "id": "bf95317d-8598-4e73-8c90-80102bbf1516",
   "metadata": {},
   "outputs": [],
   "source": [
    "model = OllamaLLM(base_url=\"http://ollama.tempobr.com\", model=\"gemma2\")"
   ]
  },
  {
   "cell_type": "code",
   "execution_count": 5,
   "id": "66fab1e5-8393-427a-aed8-3241f9d09ba3",
   "metadata": {},
   "outputs": [
    {
     "data": {
      "text/plain": [
       "'Let\\'s think step-by-step about what LangChain is:\\n\\n1. **\"Lang\"** usually refers to language, suggesting something related to understanding and generating text. \\n2. **\"Chain\"** implies a sequence of connected elements, possibly working together to achieve a goal.\\n\\nPutting these together, LangChain likely involves using chains of language-related components to accomplish complex tasks.  \\n\\n3.  To get a more precise definition, we need to look at its purpose and functionality. \\n\\n\\nIs there anything else you want to know about how we can break down the term \"LangChain\"?'"
      ]
     },
     "execution_count": 5,
     "metadata": {},
     "output_type": "execute_result"
    }
   ],
   "source": [
    "chain = prompt | model\n",
    "\n",
    "chain.invoke({\"question\": \"What is LangChain?\"})"
   ]
  },
  {
   "cell_type": "code",
   "execution_count": null,
   "id": "7b0d7463-9862-4c63-acb6-1302093ae210",
   "metadata": {},
   "outputs": [],
   "source": []
  },
  {
   "cell_type": "markdown",
   "id": "081921ba-2791-4a1e-ba0e-315866f5c7d4",
   "metadata": {},
   "source": [
    "# "
   ]
  }
 ],
 "metadata": {
  "kernelspec": {
   "display_name": "Python 3 (ipykernel)",
   "language": "python",
   "name": "python3"
  },
  "language_info": {
   "codemirror_mode": {
    "name": "ipython",
    "version": 3
   },
   "file_extension": ".py",
   "mimetype": "text/x-python",
   "name": "python",
   "nbconvert_exporter": "python",
   "pygments_lexer": "ipython3",
   "version": "3.11.6"
  }
 },
 "nbformat": 4,
 "nbformat_minor": 5
}
